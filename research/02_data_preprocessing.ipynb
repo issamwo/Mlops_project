{
 "cells": [
  {
   "cell_type": "code",
   "execution_count": 1,
   "metadata": {},
   "outputs": [],
   "source": [
    "import os\n",
    "os.chdir(\"../\")"
   ]
  },
  {
   "cell_type": "code",
   "execution_count": 22,
   "metadata": {},
   "outputs": [
    {
     "data": {
      "text/plain": [
       "'c:\\\\Users\\\\frup00090410\\\\Mlops_project'"
      ]
     },
     "execution_count": 22,
     "metadata": {},
     "output_type": "execute_result"
    }
   ],
   "source": [
    "%pwd"
   ]
  },
  {
   "cell_type": "code",
   "execution_count": 23,
   "metadata": {},
   "outputs": [],
   "source": [
    "from dataclasses import dataclass\n",
    "from pathlib import Path\n",
    "\n",
    "\n",
    "@dataclass(frozen=True)\n",
    "class DataPreprocessingConfig:\n",
    "    root_dir: Path\n",
    "    unpreprocessed_data_path: Path\n",
    "    column_text: str\n",
    "    column_topic: str\n",
    "    preprocessed_data_path: Path\n"
   ]
  },
  {
   "cell_type": "code",
   "execution_count": 24,
   "metadata": {},
   "outputs": [],
   "source": [
    "from cnnClassifier.constants import *\n",
    "from cnnClassifier.utils.common import read_yaml, create_directories"
   ]
  },
  {
   "cell_type": "code",
   "execution_count": 33,
   "metadata": {},
   "outputs": [],
   "source": [
    "class ConfigurationManager:\n",
    "    def __init__(\n",
    "        self,\n",
    "        config_filepath = CONFIG_FILE_PATH,\n",
    "        params_filepath = PARAMS_FILE_PATH):\n",
    "\n",
    "        self.config = read_yaml(config_filepath)\n",
    "        self.params = read_yaml(params_filepath)\n",
    "\n",
    "        create_directories([self.config.artifacts_root])\n",
    "    \n",
    "    def get_data_preprocessing_config(self) -> DataPreprocessingConfig:\n",
    "        config = self.config.data_preprocessing\n",
    "        \n",
    "        create_directories([config.root_dir])\n",
    "\n",
    "        data_preprocessing_config = DataPreprocessingConfig(\n",
    "            root_dir=Path(config.root_dir),\n",
    "            unpreprocessed_data_path=Path(config.unpreprocessed_data_path),\n",
    "            column_text=config.column_text,\n",
    "            column_topic=config.column_topic,\n",
    "            preprocessed_data_path=Path(config.preprocessed_data_path)\n",
    "        )\n",
    "\n",
    "        return data_preprocessing_config"
   ]
  },
  {
   "cell_type": "code",
   "execution_count": 48,
   "metadata": {},
   "outputs": [],
   "source": [
    "import os\n",
    "import re\n",
    "import pandas as pd\n",
    "import numpy as np\n",
    "import json\n",
    "from cnnClassifier import logger\n",
    "from cnnClassifier.utils.common import get_size"
   ]
  },
  {
   "cell_type": "code",
   "execution_count": 76,
   "metadata": {},
   "outputs": [],
   "source": [
    "class DataPreprocessing:\n",
    "    def __init__(self, config: DataPreprocessingConfig): \n",
    "        self.config = config\n",
    "    \n",
    "    def detect_last_file(self) -> Path:\n",
    "        \"\"\"\n",
    "        get last unzip files from the ingestion pipeline\n",
    "        \"\"\"\n",
    "        directory = self.config.unpreprocessed_data_path\n",
    "        json_files = [f for f in os.listdir(directory) if f.endswith('.json')]\n",
    "        max_element = None\n",
    "        max_output = float('-inf')\n",
    "\n",
    "        for element in json_files:\n",
    "            output = os.path.getctime(os.path.join(os.getcwd(), directory,element))\n",
    "            if output > max_output:\n",
    "                max_output = output\n",
    "                max_element = element\n",
    "        return os.path.join(os.getcwd(), directory,max_element)\n",
    "\n",
    "    def read_data(self, file_path: Path) -> pd.DataFrame:\n",
    "        \"\"\"\n",
    "        read and subset the data\n",
    "        \"\"\"\n",
    "        column_text = self.config.column_text\n",
    "        column_topic = self.config.column_topic\n",
    "        # Load the JSON file as a string\n",
    "        with open(file_path) as f:\n",
    "            data = json.load(f)\n",
    "        # Normalize the JSON data and create a DataFrame\n",
    "        df = pd.json_normalize(data)\n",
    "        # Subset of data\n",
    "        df = df.loc[:, ['text', 'Topic']]\n",
    "        return df\n",
    "        \n",
    "    \n",
    "    def clean_data(self, df: pd.DataFrame):\n",
    "        '''This function \n",
    "            - Clean column name\n",
    "            - Drop NA's\n",
    "            - makes the given text lowercase\n",
    "            - removes text in square brackets\n",
    "            - removes punctuation and \n",
    "            - removes words containing numbers.\n",
    "        :param text: text to be cleaned\n",
    "        :return: cleaned text\n",
    "        '''\n",
    "        column_text = self.config.column_text\n",
    "        preprocessed_data_path = self.config.preprocessed_data_path\n",
    "\n",
    "        os.makedirs(\"artifacts/data_preprocessing\", exist_ok=True)\n",
    "\n",
    "\n",
    "        # Assign nan in place of blanks in the complaints column\n",
    "        df[column_text].replace(\"\", np.nan, inplace=True)\n",
    "        #Remove all rows where complaints column is nan\n",
    "        df.dropna(subset=[column_text], inplace=True)\n",
    "        # Make the text lowercase\n",
    "        df[column_text] = pd.DataFrame(df[column_text].apply(lambda x: x.lower()))\n",
    "        # Remove text in square brackets\n",
    "        df[column_text] = pd.DataFrame(df[column_text].apply(lambda x: re.sub(r'\\[.*?\\]', '', x)))    \n",
    "        # Remove punctuation\n",
    "        df[column_text] = pd.DataFrame(\n",
    "                            df[column_text].apply(lambda x: re.sub(r'[%s]' % re.escape(string.punctuation), '', x))\n",
    "                            )    \n",
    "        # Remove words containing numbers\n",
    "        df[column_text] = pd.DataFrame(df[column_text].apply(lambda x: re.sub(r'\\w*\\d\\w*', '', x)))\n",
    "        \n",
    "        try:\n",
    "            logger.info(f\"downloading cleaned data into file {preprocessed_data_path}\")\n",
    "            json_data = df.to_json(orient='records')\n",
    "            with open('cleaned_data.json', 'w') as f:\n",
    "                f.write(json_data)\n",
    "            logger.info(f\"downloaded cleaned data into file {preprocessed_data_path}\")\n",
    "        except Exception as e:\n",
    "            raise e\n",
    "        \n"
   ]
  },
  {
   "cell_type": "code",
   "execution_count": 34,
   "metadata": {},
   "outputs": [
    {
     "name": "stdout",
     "output_type": "stream",
     "text": [
      "[2023-12-20 16:32:03,890: INFO: common: yaml file: config\\config.yaml loaded successfully]\n",
      "[2023-12-20 16:32:03,893: INFO: common: yaml file: params.yaml loaded successfully]\n",
      "[2023-12-20 16:32:03,895: INFO: common: created directory at: artifacts]\n"
     ]
    }
   ],
   "source": [
    "config = ConfigurationManager()"
   ]
  },
  {
   "cell_type": "code",
   "execution_count": 35,
   "metadata": {},
   "outputs": [
    {
     "name": "stdout",
     "output_type": "stream",
     "text": [
      "[2023-12-20 16:32:06,775: INFO: common: created directory at: artifacts/data_preprocessing]\n"
     ]
    }
   ],
   "source": [
    "data_ingestion_config = config.get_data_preprocessing_config()"
   ]
  },
  {
   "cell_type": "code",
   "execution_count": 36,
   "metadata": {},
   "outputs": [],
   "source": [
    "data_ingestion = DataPreprocessing(config=data_ingestion_config)"
   ]
  },
  {
   "cell_type": "code",
   "execution_count": 77,
   "metadata": {},
   "outputs": [
    {
     "ename": "FileNotFoundError",
     "evalue": "[WinError 2] Le fichier spécifié est introuvable: 'complaints-2021-05-14_08_16_.json'",
     "output_type": "error",
     "traceback": [
      "\u001b[1;31m---------------------------------------------------------------------------\u001b[0m",
      "\u001b[1;31mFileNotFoundError\u001b[0m                         Traceback (most recent call last)",
      "Cell \u001b[1;32mIn[77], line 1\u001b[0m\n\u001b[1;32m----> 1\u001b[0m \u001b[43mdata_ingestion\u001b[49m\u001b[38;5;241;43m.\u001b[39;49m\u001b[43mdetect_last_file\u001b[49m\u001b[43m(\u001b[49m\u001b[43m)\u001b[49m\n",
      "Cell \u001b[1;32mIn[27], line 11\u001b[0m, in \u001b[0;36mDataPreprocessing.detect_last_file\u001b[1;34m(self)\u001b[0m\n\u001b[0;32m      9\u001b[0m directory \u001b[38;5;241m=\u001b[39m \u001b[38;5;28mself\u001b[39m\u001b[38;5;241m.\u001b[39mconfig\u001b[38;5;241m.\u001b[39munpreprocessed_data_path\n\u001b[0;32m     10\u001b[0m json_files \u001b[38;5;241m=\u001b[39m [f \u001b[38;5;28;01mfor\u001b[39;00m f \u001b[38;5;129;01min\u001b[39;00m os\u001b[38;5;241m.\u001b[39mlistdir(directory) \u001b[38;5;28;01mif\u001b[39;00m f\u001b[38;5;241m.\u001b[39mendswith(\u001b[38;5;124m'\u001b[39m\u001b[38;5;124m.json\u001b[39m\u001b[38;5;124m'\u001b[39m)]\n\u001b[1;32m---> 11\u001b[0m newest_file \u001b[38;5;241m=\u001b[39m \u001b[38;5;28;43mmax\u001b[39;49m\u001b[43m(\u001b[49m\u001b[43mjson_files\u001b[49m\u001b[43m,\u001b[49m\u001b[43m \u001b[49m\u001b[43mkey\u001b[49m\u001b[38;5;241;43m=\u001b[39;49m\u001b[43mos\u001b[49m\u001b[38;5;241;43m.\u001b[39;49m\u001b[43mpath\u001b[49m\u001b[38;5;241;43m.\u001b[39;49m\u001b[43mgetctime\u001b[49m\u001b[43m)\u001b[49m\n\u001b[0;32m     12\u001b[0m \u001b[38;5;28;01mreturn\u001b[39;00m newest_file\n",
      "File \u001b[1;32m<frozen genericpath>:65\u001b[0m, in \u001b[0;36mgetctime\u001b[1;34m(filename)\u001b[0m\n",
      "\u001b[1;31mFileNotFoundError\u001b[0m: [WinError 2] Le fichier spécifié est introuvable: 'complaints-2021-05-14_08_16_.json'"
     ]
    }
   ],
   "source": [
    "data_ingestion.detect_last_file()"
   ]
  },
  {
   "cell_type": "code",
   "execution_count": null,
   "metadata": {},
   "outputs": [],
   "source": [
    "try:\n",
    "    config = ConfigurationManager()\n",
    "    data_ingestion_config = config.get_data_ingestion_config()\n",
    "    data_ingestion = DataIngestion(config=data_ingestion_config)\n",
    "    data_ingestion.download_file()\n",
    "    data_ingestion.extract_zip_file()\n",
    "except Exception as e:\n",
    "    raise e"
   ]
  },
  {
   "cell_type": "code",
   "execution_count": 54,
   "metadata": {},
   "outputs": [],
   "source": [
    "os.chdir('c:\\\\Users\\\\frup00090410\\\\Mlops_project')"
   ]
  },
  {
   "cell_type": "code",
   "execution_count": 70,
   "metadata": {},
   "outputs": [],
   "source": [
    "directory = 'artifacts/data_ingestion'\n",
    "json_files = [f for f in os.listdir(directory) if f.endswith('.json')]\n",
    "max_element = None\n",
    "max_output = float('-inf')\n",
    "\n",
    "for element in json_files:\n",
    "    output = os.path.getctime(os.path.join(os.getcwd(), directory,element))\n",
    "    if output > max_output:\n",
    "        max_output = output\n",
    "        max_element = element\n",
    "\n",
    "\n"
   ]
  },
  {
   "cell_type": "code",
   "execution_count": 71,
   "metadata": {},
   "outputs": [
    {
     "data": {
      "text/plain": [
       "['complaints-2021-05-14_08_16_.json', 'data.json']"
      ]
     },
     "execution_count": 71,
     "metadata": {},
     "output_type": "execute_result"
    }
   ],
   "source": [
    "json_files"
   ]
  },
  {
   "cell_type": "code",
   "execution_count": 73,
   "metadata": {},
   "outputs": [],
   "source": [
    "max_element = None\n",
    "max_output = float('-inf')\n",
    "\n",
    "for element in json_files:\n",
    "    output = os.path.getctime(os.path.join(os.getcwd(), directory,element))\n",
    "    if output > max_output:\n",
    "        max_output = output\n",
    "        max_element = element"
   ]
  },
  {
   "cell_type": "code",
   "execution_count": 75,
   "metadata": {},
   "outputs": [
    {
     "data": {
      "text/plain": [
       "'data.json'"
      ]
     },
     "execution_count": 75,
     "metadata": {},
     "output_type": "execute_result"
    }
   ],
   "source": [
    "max_element"
   ]
  },
  {
   "cell_type": "code",
   "execution_count": 72,
   "metadata": {},
   "outputs": [
    {
     "ename": "TypeError",
     "evalue": "'float' object is not callable",
     "output_type": "error",
     "traceback": [
      "\u001b[1;31m---------------------------------------------------------------------------\u001b[0m",
      "\u001b[1;31mTypeError\u001b[0m                                 Traceback (most recent call last)",
      "Cell \u001b[1;32mIn[72], line 1\u001b[0m\n\u001b[1;32m----> 1\u001b[0m newest_file \u001b[38;5;241m=\u001b[39m \u001b[38;5;28;43mmax\u001b[39;49m\u001b[43m(\u001b[49m\u001b[43mjson_files\u001b[49m\u001b[43m,\u001b[49m\u001b[43m \u001b[49m\u001b[43mkey\u001b[49m\u001b[38;5;241;43m=\u001b[39;49m\u001b[43mos\u001b[49m\u001b[38;5;241;43m.\u001b[39;49m\u001b[43mpath\u001b[49m\u001b[38;5;241;43m.\u001b[39;49m\u001b[43mgetctime\u001b[49m\u001b[43m(\u001b[49m\u001b[43mos\u001b[49m\u001b[38;5;241;43m.\u001b[39;49m\u001b[43mpath\u001b[49m\u001b[38;5;241;43m.\u001b[39;49m\u001b[43mjoin\u001b[49m\u001b[43m(\u001b[49m\u001b[43mos\u001b[49m\u001b[38;5;241;43m.\u001b[39;49m\u001b[43mgetcwd\u001b[49m\u001b[43m(\u001b[49m\u001b[43m)\u001b[49m\u001b[43m,\u001b[49m\u001b[43m \u001b[49m\u001b[43mdirectory\u001b[49m\u001b[43m)\u001b[49m\u001b[43m)\u001b[49m\u001b[43m)\u001b[49m\n",
      "\u001b[1;31mTypeError\u001b[0m: 'float' object is not callable"
     ]
    }
   ],
   "source": [
    "for file in json_files:\n",
    "    time_stamp"
   ]
  },
  {
   "cell_type": "code",
   "execution_count": null,
   "metadata": {},
   "outputs": [],
   "source": [
    "import os\n",
    "\n",
    "directory = '/path/to/directory'\n",
    "\n",
    "if os.path.exists(directory):\n",
    "    print('Directory exists')\n",
    "else:\n",
    "    print('Directory does not exist')"
   ]
  },
  {
   "cell_type": "code",
   "execution_count": 59,
   "metadata": {},
   "outputs": [],
   "source": [
    "import os"
   ]
  },
  {
   "cell_type": "code",
   "execution_count": 68,
   "metadata": {},
   "outputs": [
    {
     "data": {
      "text/plain": [
       "'c:\\\\Users\\\\frup00090410\\\\Mlops_project\\\\artifacts/data_ingestion\\\\complaints-2021-05-14_08_16_.json'"
      ]
     },
     "execution_count": 68,
     "metadata": {},
     "output_type": "execute_result"
    }
   ],
   "source": [
    "os.path.join(os.getcwd(), directory, 'complaints-2021-05-14_08_16_.json')"
   ]
  },
  {
   "cell_type": "code",
   "execution_count": 69,
   "metadata": {},
   "outputs": [
    {
     "data": {
      "text/plain": [
       "1702914938.9359896"
      ]
     },
     "execution_count": 69,
     "metadata": {},
     "output_type": "execute_result"
    }
   ],
   "source": [
    "os.path.getctime(os.path.join(os.getcwd(), directory))"
   ]
  },
  {
   "cell_type": "code",
   "execution_count": null,
   "metadata": {},
   "outputs": [],
   "source": []
  }
 ],
 "metadata": {
  "kernelspec": {
   "display_name": "venv",
   "language": "python",
   "name": "python3"
  },
  "language_info": {
   "codemirror_mode": {
    "name": "ipython",
    "version": 3
   },
   "file_extension": ".py",
   "mimetype": "text/x-python",
   "name": "python",
   "nbconvert_exporter": "python",
   "pygments_lexer": "ipython3",
   "version": "3.11.5"
  }
 },
 "nbformat": 4,
 "nbformat_minor": 2
}
