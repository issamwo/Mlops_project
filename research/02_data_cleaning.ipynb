{
 "cells": [
  {
   "cell_type": "code",
   "execution_count": 1,
   "metadata": {},
   "outputs": [],
   "source": [
    "import os\n",
    "os.chdir(\"../\")"
   ]
  },
  {
   "cell_type": "code",
   "execution_count": 2,
   "metadata": {},
   "outputs": [
    {
     "data": {
      "text/plain": [
       "'c:\\\\Users\\\\frup00090410\\\\Mlops_project'"
      ]
     },
     "execution_count": 2,
     "metadata": {},
     "output_type": "execute_result"
    }
   ],
   "source": [
    "%pwd"
   ]
  },
  {
   "cell_type": "code",
   "execution_count": 15,
   "metadata": {},
   "outputs": [],
   "source": [
    "from dataclasses import dataclass\n",
    "from pathlib import Path\n",
    "\n",
    "\n",
    "@dataclass(frozen=True)\n",
    "class DataCleaningConfig:\n",
    "    root_dir: Path\n",
    "    unpreprocessed_data_path: Path\n",
    "    column_text: str\n",
    "    column_topic: str\n",
    "    preprocessed_data_path: Path\n"
   ]
  },
  {
   "cell_type": "code",
   "execution_count": 16,
   "metadata": {},
   "outputs": [],
   "source": [
    "from cnnClassifier.constants import *\n",
    "from cnnClassifier.utils.common import read_yaml, create_directories"
   ]
  },
  {
   "cell_type": "code",
   "execution_count": 17,
   "metadata": {},
   "outputs": [],
   "source": [
    "class ConfigurationManager:\n",
    "    def __init__(\n",
    "        self,\n",
    "        config_filepath = CONFIG_FILE_PATH,\n",
    "        params_filepath = PARAMS_FILE_PATH):\n",
    "\n",
    "        self.config = read_yaml(config_filepath)\n",
    "        self.params = read_yaml(params_filepath)\n",
    "\n",
    "        create_directories([self.config.artifacts_root])\n",
    "    \n",
    "    def get_data_cleaning_config(self) -> DataCleaningConfig:\n",
    "        config = self.config.data_cleaning\n",
    "        \n",
    "        create_directories([config.root_dir])\n",
    "\n",
    "        data_cleaning_config = DataCleaningConfig(\n",
    "            root_dir=Path(config.root_dir),\n",
    "            unpreprocessed_data_path=Path(config.unpreprocessed_data_path),\n",
    "            column_text=config.column_text,\n",
    "            column_topic=config.column_topic,\n",
    "            preprocessed_data_path=Path(config.preprocessed_data_path)\n",
    "        )\n",
    "\n",
    "        return data_cleaning_config"
   ]
  },
  {
   "cell_type": "code",
   "execution_count": 18,
   "metadata": {},
   "outputs": [],
   "source": [
    "import os\n",
    "import re\n",
    "import pandas as pd\n",
    "import numpy as np\n",
    "import string\n",
    "import json\n",
    "from cnnClassifier import logger\n",
    "from cnnClassifier.utils.common import get_size"
   ]
  },
  {
   "cell_type": "code",
   "execution_count": 19,
   "metadata": {},
   "outputs": [],
   "source": [
    "class DataCleaning:\n",
    "    def __init__(self, config: DataCleaningConfig): \n",
    "        self.config = config\n",
    "    \n",
    "    def detect_last_file(self) -> Path:\n",
    "        \"\"\"\n",
    "        get last unzip files from the ingestion pipeline\n",
    "        \"\"\"\n",
    "        directory = self.config.unpreprocessed_data_path\n",
    "        json_files = [f for f in os.listdir(directory) if f.endswith('.json')]\n",
    "        max_element = None\n",
    "        max_output = float('-inf')\n",
    "\n",
    "        for element in json_files:\n",
    "            output = os.path.getctime(os.path.join(os.getcwd(), directory,element))\n",
    "            if output > max_output:\n",
    "                max_output = output\n",
    "                max_element = element\n",
    "        return os.path.join(os.getcwd(), directory,max_element)\n",
    "\n",
    "    def read_data(self, file_path: Path) -> pd.DataFrame:\n",
    "        \"\"\"\n",
    "        read and subset the data\n",
    "        \"\"\"\n",
    "        column_text = self.config.column_text\n",
    "        column_topic = self.config.column_topic\n",
    "        # Load the JSON file as a string\n",
    "        with open(file_path) as f:\n",
    "            data = json.load(f)\n",
    "        # Normalize the JSON data and create a DataFrame\n",
    "        df = pd.json_normalize(data)\n",
    "        # Subset of data\n",
    "        df = df.loc[:, ['text', 'Topic']]\n",
    "        return df\n",
    "        \n",
    "    \n",
    "    def clean_data(self, df: pd.DataFrame):\n",
    "        '''This function \n",
    "            - Clean column name\n",
    "            - Drop NA's\n",
    "            - makes the given text lowercase\n",
    "            - removes text in square brackets\n",
    "            - removes punctuation and \n",
    "            - removes words containing numbers.\n",
    "        :param text: text to be cleaned\n",
    "        :return: cleaned text\n",
    "        '''\n",
    "        column_text = self.config.column_text\n",
    "        preprocessed_data_path = self.config.preprocessed_data_path\n",
    "\n",
    "        os.makedirs(\"artifacts/data_cleaning\", exist_ok=True)\n",
    "\n",
    "\n",
    "        # Assign nan in place of blanks in the complaints column\n",
    "        df[column_text].replace(\"\", np.nan, inplace=True)\n",
    "        #Remove all rows where complaints column is nan\n",
    "        df.dropna(subset=[column_text], inplace=True)\n",
    "        # Make the text lowercase\n",
    "        df[column_text] = pd.DataFrame(df[column_text].apply(lambda x: x.lower()))\n",
    "        # Remove text in square brackets\n",
    "        df[column_text] = pd.DataFrame(df[column_text].apply(lambda x: re.sub(r'\\[.*?\\]', '', x)))    \n",
    "        # Remove punctuation\n",
    "        df[column_text] = pd.DataFrame(\n",
    "                            df[column_text].apply(lambda x: re.sub(r'[%s]' % re.escape(string.punctuation), '', x))\n",
    "                            )    \n",
    "        # Remove words containing numbers\n",
    "        df[column_text] = pd.DataFrame(df[column_text].apply(lambda x: re.sub(r'\\w*\\d\\w*', '', x)))\n",
    "        \n",
    "        try:\n",
    "            logger.info(f\"downloading cleaned data into file {preprocessed_data_path}\")\n",
    "            json_data = df.to_json(orient='records')\n",
    "            with open(os.path.join(preprocessed_data_path,'cleaned_data.json'), 'w') as f:\n",
    "                f.write(json_data)\n",
    "            logger.info(f\"downloaded cleaned data into file {preprocessed_data_path}\")\n",
    "        except Exception as e:\n",
    "            raise e\n",
    "        \n"
   ]
  },
  {
   "cell_type": "code",
   "execution_count": 20,
   "metadata": {},
   "outputs": [
    {
     "name": "stdout",
     "output_type": "stream",
     "text": [
      "[2023-12-21 11:28:16,250: INFO: common: yaml file: config\\config.yaml loaded successfully]\n",
      "[2023-12-21 11:28:16,254: INFO: common: yaml file: params.yaml loaded successfully]\n",
      "[2023-12-21 11:28:16,256: INFO: common: created directory at: artifacts]\n",
      "[2023-12-21 11:28:16,258: INFO: common: created directory at: artifacts/data_cleaning]\n",
      "[2023-12-21 11:28:22,722: INFO: 1806934824: downloading cleaned data into file artifacts\\data_cleaning]\n",
      "[2023-12-21 11:28:23,084: INFO: 1806934824: downloaded cleaned data into file artifacts\\data_cleaning]\n"
     ]
    }
   ],
   "source": [
    "try:\n",
    "    config = ConfigurationManager()\n",
    "    data_cleaning_config = config.get_data_cleaning_config()\n",
    "    data_cleaning = DataCleaning(config=data_cleaning_config)\n",
    "    data_cleaning.clean_data(data_cleaning.read_data(data_cleaning.detect_last_file()))\n",
    "except Exception as e:\n",
    "    raise e"
   ]
  },
  {
   "cell_type": "code",
   "execution_count": null,
   "metadata": {},
   "outputs": [],
   "source": []
  }
 ],
 "metadata": {
  "kernelspec": {
   "display_name": "venv",
   "language": "python",
   "name": "python3"
  },
  "language_info": {
   "codemirror_mode": {
    "name": "ipython",
    "version": 3
   },
   "file_extension": ".py",
   "mimetype": "text/x-python",
   "name": "python",
   "nbconvert_exporter": "python",
   "pygments_lexer": "ipython3",
   "version": "3.11.5"
  }
 },
 "nbformat": 4,
 "nbformat_minor": 2
}
