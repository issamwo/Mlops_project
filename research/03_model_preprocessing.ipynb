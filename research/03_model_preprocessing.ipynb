{
 "cells": [
  {
   "cell_type": "code",
   "execution_count": 1,
   "metadata": {},
   "outputs": [],
   "source": [
    "import os"
   ]
  },
  {
   "cell_type": "code",
   "execution_count": 2,
   "metadata": {},
   "outputs": [
    {
     "data": {
      "text/plain": [
       "'c:\\\\Users\\\\frup00090410\\\\Mlops_project\\\\research'"
      ]
     },
     "execution_count": 2,
     "metadata": {},
     "output_type": "execute_result"
    }
   ],
   "source": [
    "%pwd"
   ]
  },
  {
   "cell_type": "code",
   "execution_count": 3,
   "metadata": {},
   "outputs": [],
   "source": [
    "os.chdir(\"../\")"
   ]
  },
  {
   "cell_type": "code",
   "execution_count": 4,
   "metadata": {},
   "outputs": [],
   "source": [
    "from dataclasses import dataclass\n",
    "from pathlib import Path\n",
    "\n",
    "\n",
    "@dataclass(frozen=True)\n",
    "class DataPreprocessingConfig:\n",
    "    root_dir: Path\n",
    "    cleaned_data_path: Path\n",
    "    preprocessed_spilitted_data_path: Path\n",
    "    max_words: float\n",
    "    topic_names: dict\n",
    "    test_size: float"
   ]
  },
  {
   "cell_type": "code",
   "execution_count": 5,
   "metadata": {},
   "outputs": [],
   "source": [
    "from cnnClassifier.constants import *\n",
    "from cnnClassifier.utils.common import read_yaml, create_directories, write_to_pickle"
   ]
  },
  {
   "cell_type": "code",
   "execution_count": 6,
   "metadata": {},
   "outputs": [],
   "source": [
    "class ConfigurationManager:\n",
    "    def __init__(\n",
    "        self,\n",
    "        config_filepath = CONFIG_FILE_PATH,\n",
    "        params_filepath = PARAMS_FILE_PATH):\n",
    "\n",
    "        self.config = read_yaml(config_filepath)\n",
    "        self.params = read_yaml(params_filepath)\n",
    "\n",
    "        create_directories([self.config.artifacts_root])\n",
    "    \n",
    "    def get_data_preprocessing_config(self) -> DataPreprocessingConfig:\n",
    "        config = self.config.data_preprocessing\n",
    "        \n",
    "        create_directories([config.root_dir])\n",
    "\n",
    "        data_preprocessing_config = DataPreprocessingConfig(\n",
    "            root_dir=Path(config.root_dir),\n",
    "            cleaned_data_path=Path(config.cleaned_data_path),\n",
    "            preprocessed_spilitted_data_path=Path(config.preprocessed_spilitted_data_path),\n",
    "            max_words=self.params.MAX_WORDS,\n",
    "            test_size=self.params.TEST_SIZE,\n",
    "            topic_names=self.params.TOPIC_NAMES\n",
    "        )\n",
    "\n",
    "        return data_preprocessing_config"
   ]
  },
  {
   "cell_type": "code",
   "execution_count": 7,
   "metadata": {},
   "outputs": [],
   "source": [
    "import os\n",
    "import pandas as pd\n",
    "import numpy as np\n",
    "import string\n",
    "import json\n",
    "from cnnClassifier import logger\n",
    "from tensorflow import keras\n",
    "from tensorflow.keras.preprocessing.text import Tokenizer\n",
    "from sklearn.model_selection import train_test_split\n",
    "from collections import Counter\n",
    "import pickle\n"
   ]
  },
  {
   "cell_type": "code",
   "execution_count": 8,
   "metadata": {},
   "outputs": [],
   "source": [
    "class DataPreprocessing:\n",
    "    def __init__(self, config: DataPreprocessingConfig): \n",
    "        self.config = config\n",
    "    \n",
    "    def detect_last_file(self) -> Path:\n",
    "        \"\"\"\n",
    "        get last unzip files from the ingestion pipeline\n",
    "        \"\"\"\n",
    "        logger.info(\"Looking for all JSON cleaned files to Select latest one created\")\n",
    "        directory = self.config.cleaned_data_path\n",
    "        json_files = [f for f in os.listdir(directory) if f.endswith('.json')]\n",
    "        max_element = None\n",
    "        max_output = float('-inf')\n",
    "\n",
    "        for element in json_files:\n",
    "            output = os.path.getctime(os.path.join(os.getcwd(), directory,element))\n",
    "            if output > max_output:\n",
    "                max_output = output\n",
    "                max_element = element\n",
    "        logger.info(f\"latest cleaned file detected: {max_element}\")\n",
    "        return os.path.join(os.getcwd(), directory,max_element)\n",
    "    \n",
    "\n",
    "    def read_data(self, file_path: Path) -> pd.DataFrame:\n",
    "        \"\"\"\n",
    "        read and subset the data\n",
    "        \"\"\"\n",
    "        logger.info(\"Started reading cleaned data file\")\n",
    "        # Load the JSON file as a string\n",
    "        with open(file_path) as f:\n",
    "            data = json.load(f)\n",
    "        # Normalize the JSON data and create a DataFrame\n",
    "        df = pd.json_normalize(data)\n",
    "        # Subset of data\n",
    "        logger.info(\"File read is completed\")\n",
    "        return df\n",
    "    \n",
    "    \n",
    "    def vector_classes_info_to_json(self, vector_class, output_file_name: str, output_path: Path):\n",
    "        \"\"\"_summary_\n",
    "\n",
    "        Args:\n",
    "            vector_class (_type_): _description_\n",
    "        \"\"\"\n",
    "        # count the number of each class\n",
    "        class_counts = Counter(vector_class)\n",
    "        \n",
    "        # calculate the total number of classes\n",
    "        total_classes = sum(class_counts.values())\n",
    "        \n",
    "        # calculate the percentage of each class\n",
    "        class_percentages = {cls: count / total_classes * 100 for cls, count in class_counts.items()}\n",
    "        \n",
    "        # create a dictionary with the counts and percentages\n",
    "        class_info = {\n",
    "            'counts': class_counts,\n",
    "            'percentages': class_percentages\n",
    "                    }\n",
    "\n",
    "        # write the dictionary to a JSON file\n",
    "        with open(os.path.join(output_path,f\"{output_file_name}.json\"), 'w') as f:\n",
    "            json.dump(class_info, f)\n",
    "\n",
    "\n",
    "    def preprocess_data(self, df: pd.DataFrame):\n",
    "        \"\"\"Split data and apply preprocessing\n",
    "\n",
    "        Args:\n",
    "            df (pd.DataFrame): _description_\n",
    "        \"\"\"\n",
    "        df['Topic'] = df['Topic'].map(self.config.topic_names)\n",
    "\n",
    "        X_train, X_test, y_train, y_test = train_test_split(\n",
    "            df.text, df.Topic, test_size=0.25, random_state=42\n",
    "            )\n",
    "        \n",
    "        self.vector_classes_info_to_json(y_train,'metadata_info_train',self.config.preprocessed_spilitted_data_path)\n",
    "        self.vector_classes_info_to_json(y_test,'metadata_info_test',self.config.preprocessed_spilitted_data_path)\n",
    "        \n",
    "        tokenizer = Tokenizer(num_words=self.config.max_words)\n",
    "        tokenizer.fit_on_texts(X_train)\n",
    "\n",
    "        # Save trained Tokenizer \n",
    "        with open(os.path.join(self.config.preprocessed_spilitted_data_path,'tokenizer.pickle'), 'wb') as handle:\n",
    "            pickle.dump(Tokenizer, handle, protocol=pickle.HIGHEST_PROTOCOL)\n",
    "\n",
    "        # Convert the text data into sequences of integers\n",
    "        X_train_sequences = tokenizer.texts_to_sequences(X_train)\n",
    "        X_test_sequences = tokenizer.texts_to_sequences(X_test)\n",
    "        # # Transform the word vector to tf-idf\n",
    "        x_train_tfidf = tokenizer.sequences_to_matrix(X_train_sequences, mode=\"tfidf\")\n",
    "        X_test_tfidf = tokenizer.sequences_to_matrix(X_test_sequences, mode=\"tfidf\")\n",
    "\n",
    "        # how to store this data : pickle\n",
    "        write_to_pickle(x_train_tfidf, 'X_train_preprocessed',self.config.preprocessed_spilitted_data_path)\n",
    "        write_to_pickle(X_test_tfidf, 'X_test_preprocessed', self.config.preprocessed_spilitted_data_path)\n",
    "\n",
    "        write_to_pickle(y_train, 'y_train_preprocessed', self.config.preprocessed_spilitted_data_path)\n",
    "        write_to_pickle(y_test, 'y_test_preprocessed', self.config.preprocessed_spilitted_data_path)\n",
    "        \n",
    "\n",
    "        \n",
    "\n"
   ]
  },
  {
   "cell_type": "code",
   "execution_count": 9,
   "metadata": {},
   "outputs": [
    {
     "name": "stdout",
     "output_type": "stream",
     "text": [
      "[2023-12-22 12:01:37,026: INFO: common: yaml file: config\\config.yaml loaded successfully]\n",
      "[2023-12-22 12:01:37,030: INFO: common: yaml file: params.yaml loaded successfully]\n",
      "[2023-12-22 12:01:37,033: INFO: common: created directory at: artifacts]\n",
      "[2023-12-22 12:01:37,037: INFO: common: created directory at: artifacts/data_preprocessing]\n"
     ]
    }
   ],
   "source": [
    "try:\n",
    "    config = ConfigurationManager()\n",
    "    data_preprocessing_config = config.get_data_preprocessing_config()\n",
    "    data_preprocessing = DataPreprocessing(config=data_preprocessing_config)\n",
    "    data_preprocessing.preprocess_data(data_preprocessing.read_data(data_preprocessing.detect_last_file()))\n",
    "except Exception as e:\n",
    "    raise e"
   ]
  }
 ],
 "metadata": {
  "kernelspec": {
   "display_name": "venv",
   "language": "python",
   "name": "python3"
  },
  "language_info": {
   "codemirror_mode": {
    "name": "ipython",
    "version": 3
   },
   "file_extension": ".py",
   "mimetype": "text/x-python",
   "name": "python",
   "nbconvert_exporter": "python",
   "pygments_lexer": "ipython3",
   "version": "3.11.5"
  }
 },
 "nbformat": 4,
 "nbformat_minor": 2
}
