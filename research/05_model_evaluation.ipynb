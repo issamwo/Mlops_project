{
 "cells": [
  {
   "cell_type": "code",
   "execution_count": 1,
   "metadata": {},
   "outputs": [],
   "source": [
    "import os"
   ]
  },
  {
   "cell_type": "code",
   "execution_count": 2,
   "metadata": {},
   "outputs": [
    {
     "data": {
      "text/plain": [
       "'c:\\\\Users\\\\frup00090410\\\\Mlops_project\\\\research'"
      ]
     },
     "execution_count": 2,
     "metadata": {},
     "output_type": "execute_result"
    }
   ],
   "source": [
    "%pwd"
   ]
  },
  {
   "cell_type": "code",
   "execution_count": 3,
   "metadata": {},
   "outputs": [],
   "source": [
    "os.chdir(\"../\")"
   ]
  },
  {
   "cell_type": "code",
   "execution_count": 4,
   "metadata": {},
   "outputs": [
    {
     "data": {
      "text/plain": [
       "'c:\\\\Users\\\\frup00090410\\\\Mlops_project'"
      ]
     },
     "execution_count": 4,
     "metadata": {},
     "output_type": "execute_result"
    }
   ],
   "source": [
    "%pwd"
   ]
  },
  {
   "cell_type": "code",
   "execution_count": 5,
   "metadata": {},
   "outputs": [],
   "source": [
    "from dotenv import load_dotenv\n",
    "\n",
    "\n",
    "load_dotenv()  # take environment variables from .env.\n",
    "\n",
    "# Now you can access the variables using os.getenv.\n",
    "MLFLOW_TRACKING_URI = os.getenv('MLFLOW_TRACKING_URI')\n",
    "MLFLOW_TRACKING_USERNAME = os.getenv('MLFLOW_TRACKING_USERNAME')\n",
    "MLFLOW_TRACKING_PASSWORD = os.getenv('MLFLOW_TRACKING_PASSWORD')"
   ]
  },
  {
   "cell_type": "code",
   "execution_count": 17,
   "metadata": {},
   "outputs": [],
   "source": [
    "from dataclasses import dataclass\n",
    "from pathlib import Path\n",
    "\n",
    "\n",
    "@dataclass(frozen=True)\n",
    "class ModelEvaluationConfig:\n",
    "    path_model: Path\n",
    "    preprocessed_spilitted_data_path: Path\n",
    "    model_params: dict\n",
    "    mlflow_uri: int"
   ]
  },
  {
   "cell_type": "code",
   "execution_count": 7,
   "metadata": {},
   "outputs": [],
   "source": [
    "from Classifier.constants import *\n",
    "from Classifier.utils.common import read_yaml, create_directories, write_to_pickle"
   ]
  },
  {
   "cell_type": "code",
   "execution_count": 22,
   "metadata": {},
   "outputs": [],
   "source": [
    "class ConfigurationManager:\n",
    "    def __init__(\n",
    "        self, \n",
    "        config_filepath = CONFIG_FILE_PATH,\n",
    "        params_filepath = PARAMS_FILE_PATH):\n",
    "\n",
    "        self.config = read_yaml(config_filepath)\n",
    "        self.params = read_yaml(params_filepath)\n",
    "\n",
    "        create_directories([self.config.artifacts_root])\n",
    "\n",
    "    \n",
    "    def get_model_evaluation_config(self) -> ModelEvaluationConfig:\n",
    "        config = self.config.model_training\n",
    "\n",
    "        model_evaluation_config = ModelEvaluationConfig(\n",
    "            path_model=Path(config.model_path),\n",
    "            preprocessed_spilitted_data_path=Path(config.preprocessed_spilitted_data_path),\n",
    "            mlflow_uri=MLFLOW_TRACKING_URI,\n",
    "            model_params=dict(\n",
    "                batch_size=self.params.BATCH_SIZE,\n",
    "                epochs=self.params.EPOCHS,\n",
    "                max_words=self.params.MAX_WORDS,\n",
    "                validation_split=self.params.VALIDATION_SPLIT,\n",
    "                learning_rate=self.params.LEARNING_RATE,\n",
    "                beta_1=self.params.BETA_1,\n",
    "                beta_2=self.params.BETA_2\n",
    "            ),\n",
    "        )\n",
    "        return model_evaluation_config"
   ]
  },
  {
   "cell_type": "code",
   "execution_count": 57,
   "metadata": {},
   "outputs": [],
   "source": [
    "import tensorflow as tf\n",
    "from pathlib import Path\n",
    "import mlflow\n",
    "import mlflow.keras\n",
    "import tensorflow\n",
    "from tensorflow.keras.models import load_model\n",
    "from urllib.parse import urlparse\n",
    "import pickle\n",
    "import json"
   ]
  },
  {
   "cell_type": "code",
   "execution_count": 64,
   "metadata": {},
   "outputs": [],
   "source": [
    "class ModelEvaluation:\n",
    "    def __init__(self, config: ModelEvaluationConfig): \n",
    "        self.config = config\n",
    "\n",
    "\n",
    "    def read_pickle_files(self):\n",
    "        data = {}\n",
    "        for filename in os.listdir(self.config.preprocessed_spilitted_data_path):\n",
    "            if filename.endswith('.pickle'):\n",
    "                with open(os.path.join(self.config.preprocessed_spilitted_data_path, filename), 'rb') as f:\n",
    "                    data[filename] = pickle.load(f)\n",
    "        return data\n",
    "    \n",
    "\n",
    "    def evaluate_model(self, data: dict):\n",
    "        \"\"\"\n",
    "\n",
    "        Args:\n",
    "            model (tf.keras.Model): _description_\n",
    "            data (dict): _description_\n",
    "        \"\"\"\n",
    "        # Access test data\n",
    "        x_test = data['X_test_preprocessed.pickle']\n",
    "        y_test = data['y_test_preprocessed.pickle']\n",
    "        # Load model\n",
    "        model = load_model(os.path.join(self.config.path_model, 'model.h5'))\n",
    "        # Store model:\n",
    "        self.model = model\n",
    "        # Evaluate model\n",
    "        evaluation = model.evaluate(x_test, y_test, batch_size=self.config.model_params['batch_size'], verbose=1)\n",
    "        # add score\n",
    "        self.score = evaluation\n",
    "        # Create directory to store evaluation metrics\n",
    "        os.makedirs(\"artifacts/model_evaluation\", exist_ok=True)\n",
    "        # Create a dictionary that contains the loss and metrics\n",
    "        evaluation_dict = {'loss': evaluation[0], 'accuracy': evaluation[1]}\n",
    "        # Save the dictionary as a JSON file\n",
    "        with open(os.path.join('artifacts/model_evaluation', 'evaluation.json'), 'w') as f:\n",
    "            json.dump(evaluation_dict, f)\n",
    "\n",
    "    \n",
    "    def log_into_mlflow(self):\n",
    "        mlflow.set_registry_uri(self.config.mlflow_uri)\n",
    "        tracking_url_type_store = urlparse(mlflow.get_tracking_uri()).scheme\n",
    "        \n",
    "        with mlflow.start_run():\n",
    "            mlflow.log_params(self.config.model_params)\n",
    "            mlflow.log_metrics(\n",
    "                {\"loss\": self.score[0], \"accuracy\": self.score[1]}\n",
    "            )\n",
    "            # Model registry does not work with file store\n",
    "            if tracking_url_type_store != \"file\":\n",
    "\n",
    "                # Register the model\n",
    "                # There are other ways to use the Model Registry, which depends on the use case,\n",
    "                # please refer to the doc for more information:\n",
    "                # https://mlflow.org/docs/latest/model-registry.html#api-workflow\n",
    "                mlflow.keras.log_model(self.model, \"model\", registered_model_name=\"MLP\")\n",
    "            else:\n",
    "                mlflow.keras.log_model(self.model, \"model\")\n",
    "        \n",
    "\n",
    "\n",
    "\n",
    "\n"
   ]
  },
  {
   "cell_type": "code",
   "execution_count": 65,
   "metadata": {},
   "outputs": [
    {
     "name": "stdout",
     "output_type": "stream",
     "text": [
      "[2023-12-26 17:12:48,251: INFO: common: yaml file: config\\config.yaml loaded successfully]\n",
      "[2023-12-26 17:12:48,257: INFO: common: yaml file: params.yaml loaded successfully]\n",
      "[2023-12-26 17:12:48,260: INFO: common: created directory at: artifacts]\n",
      "165/165 [==============================] - 1s 3ms/step - loss: 0.6247 - accuracy: 0.8305\n"
     ]
    },
    {
     "name": "stderr",
     "output_type": "stream",
     "text": [
      "2023/12/26 17:12:51 WARNING mlflow.tensorflow: You are saving a TensorFlow Core model or Keras model without a signature. Inference with mlflow.pyfunc.spark_udf() will not work unless the model's pyfunc representation accepts pandas DataFrames as inference inputs.\n"
     ]
    },
    {
     "name": "stdout",
     "output_type": "stream",
     "text": [
      "[2023-12-26 17:12:52,838: INFO: builder_impl: Assets written to: C:\\Users\\FRUP00~1\\AppData\\Local\\Temp\\tmpprbhtleu\\model\\data\\model\\assets]\n"
     ]
    },
    {
     "name": "stderr",
     "output_type": "stream",
     "text": [
      "c:\\Users\\frup00090410\\Mlops_project\\venv\\Lib\\site-packages\\_distutils_hack\\__init__.py:33: UserWarning: Setuptools is replacing distutils.\n",
      "  warnings.warn(\"Setuptools is replacing distutils.\")\n",
      "Successfully registered model 'MLP'.\n",
      "2023/12/26 17:13:18 INFO mlflow.tracking._model_registry.client: Waiting up to 300 seconds for model version to finish creation.                     Model name: MLP, version 1\n",
      "Created version '1' of model 'MLP'.\n"
     ]
    }
   ],
   "source": [
    "config = ConfigurationManager()\n",
    "model_evaluation_config = config.get_model_evaluation_config()\n",
    "model_evaluation = ModelEvaluation(config=model_evaluation_config)\n",
    "model_evaluation.evaluate_model(model_evaluation.read_pickle_files())\n",
    "model_evaluation.log_into_mlflow()"
   ]
  },
  {
   "cell_type": "code",
   "execution_count": null,
   "metadata": {},
   "outputs": [],
   "source": []
  }
 ],
 "metadata": {
  "kernelspec": {
   "display_name": "venv",
   "language": "python",
   "name": "python3"
  },
  "language_info": {
   "codemirror_mode": {
    "name": "ipython",
    "version": 3
   },
   "file_extension": ".py",
   "mimetype": "text/x-python",
   "name": "python",
   "nbconvert_exporter": "python",
   "pygments_lexer": "ipython3",
   "version": "3.11.5"
  }
 },
 "nbformat": 4,
 "nbformat_minor": 2
}
