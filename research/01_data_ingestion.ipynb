{
 "cells": [
  {
   "cell_type": "code",
   "execution_count": 1,
   "metadata": {},
   "outputs": [],
   "source": [
    "import os"
   ]
  },
  {
   "cell_type": "code",
   "execution_count": 2,
   "metadata": {},
   "outputs": [
    {
     "data": {
      "text/plain": [
       "'c:\\\\Users\\\\frup00090410\\\\Mlops_project\\\\research'"
      ]
     },
     "execution_count": 2,
     "metadata": {},
     "output_type": "execute_result"
    }
   ],
   "source": [
    "%pwd"
   ]
  },
  {
   "cell_type": "code",
   "execution_count": 3,
   "metadata": {},
   "outputs": [],
   "source": [
    "os.chdir(\"../\")"
   ]
  },
  {
   "cell_type": "code",
   "execution_count": 4,
   "metadata": {},
   "outputs": [
    {
     "data": {
      "text/plain": [
       "'c:\\\\Users\\\\frup00090410\\\\Mlops_project'"
      ]
     },
     "execution_count": 4,
     "metadata": {},
     "output_type": "execute_result"
    }
   ],
   "source": [
    "%pwd"
   ]
  },
  {
   "cell_type": "code",
   "execution_count": 11,
   "metadata": {},
   "outputs": [],
   "source": [
    "from dataclasses import dataclass\n",
    "from pathlib import Path\n",
    "\n",
    "\n",
    "@dataclass(frozen=True)\n",
    "class DataIngestionConfig:\n",
    "    root_dir: Path\n",
    "    storage_bucket_name: str\n",
    "    source_blob_name: str\n",
    "    local_data_file: Path\n",
    "    unzip_dir: Path"
   ]
  },
  {
   "cell_type": "code",
   "execution_count": 12,
   "metadata": {},
   "outputs": [],
   "source": [
    "from cnnClassifier.constants import *\n",
    "from cnnClassifier.utils.common import read_yaml, create_directories"
   ]
  },
  {
   "cell_type": "code",
   "execution_count": 13,
   "metadata": {},
   "outputs": [],
   "source": [
    "class ConfigurationManager:\n",
    "    def __init__(\n",
    "        self,\n",
    "        config_filepath = CONFIG_FILE_PATH,\n",
    "        params_filepath = PARAMS_FILE_PATH):\n",
    "\n",
    "        self.config = read_yaml(config_filepath)\n",
    "        self.params = read_yaml(params_filepath)\n",
    "\n",
    "        create_directories([self.config.artifacts_root])\n",
    "\n",
    "\n",
    "    \n",
    "    def get_data_ingestion_config(self) -> DataIngestionConfig:\n",
    "        config = self.config.data_ingestion\n",
    "\n",
    "        create_directories([config.root_dir])\n",
    "\n",
    "        data_ingestion_config = DataIngestionConfig(\n",
    "            root_dir=config.root_dir,\n",
    "            storage_bucket_name=config.storage_bucket_name,\n",
    "            source_blob_name=config.source_blob_name,\n",
    "            local_data_file=config.local_data_file,\n",
    "            unzip_dir=config.unzip_dir \n",
    "        )\n",
    "\n",
    "        return data_ingestion_config"
   ]
  },
  {
   "cell_type": "code",
   "execution_count": 14,
   "metadata": {},
   "outputs": [],
   "source": [
    "import os\n",
    "import urllib.request as request\n",
    "import zipfile\n",
    "from cnnClassifier import logger\n",
    "from cnnClassifier.utils.common import get_size\n",
    "from google.oauth2 import service_account"
   ]
  },
  {
   "cell_type": "code",
   "execution_count": 15,
   "metadata": {},
   "outputs": [],
   "source": [
    "from google.oauth2 import service_account\n",
    "\n",
    "# Path to the service account file\n",
    "service_account_file = \"C:/Users/frup00090410/Downloads/sonic-name-403220-e74704f4f952.json\"\n",
    "\n",
    "# Create a Credentials object from the service account file\n",
    "credentials = service_account.Credentials.from_service_account_file(\n",
    "    service_account_file\n",
    ")"
   ]
  },
  {
   "cell_type": "code",
   "execution_count": 16,
   "metadata": {},
   "outputs": [],
   "source": [
    "from google.cloud import storage\n",
    "\n",
    "class DataIngestion:\n",
    "    def __init__(self, config: DataIngestionConfig):\n",
    "        self.config = config\n",
    "\n",
    "\n",
    "    def download_file(self) -> str:\n",
    "        \"\"\"Downloads a blob from the bucket.\"\"\"\n",
    "        try:\n",
    "            # The ID of your GCS bucket\n",
    "            # bucket_name = \"your-bucket-name\"\n",
    "            # The ID of your GCS object\n",
    "            # source_blob_name = \"storage-object-name\"\n",
    "            # The path to which the file should be downloaded\n",
    "\n",
    "            bucket_name = self.config.storage_bucket_name\n",
    "            source_blob_name = self.config.source_blob_name\n",
    "            destination_file_name = self.config.local_data_file\n",
    "\n",
    "            os.makedirs(\"artifacts/data_ingestion\", exist_ok=True)\n",
    "\n",
    "            storage_client = storage.Client(credentials=credentials)\n",
    "            bucket = storage_client.bucket(bucket_name)\n",
    "            # Construct a client side representation of a blob.\n",
    "            # Note `Bucket.blob` differs from `Bucket.get_blob` as it doesn't retrieve\n",
    "            # any content from Google Cloud Storage. As we don't need additional data,\n",
    "            # using `Bucket.blob` is preferred here.\n",
    "            blob = bucket.blob(source_blob_name)\n",
    "            logger.info(f\"downloading data from {bucket} into file {destination_file_name}\")\n",
    "\n",
    "            blob.download_to_filename(destination_file_name)\n",
    "            logger.info(f\"downloaded data from {bucket} into file {destination_file_name}\")\n",
    "        except Exception as e:\n",
    "            raise e\n",
    "\n",
    "\n",
    "    def extract_zip_file(self):\n",
    "        \"\"\"\n",
    "        zip_file_path: str\n",
    "        Extracts the zip file into the data directory\n",
    "        Function returns None\n",
    "        \"\"\"\n",
    "        unzip_path = self.config.unzip_dir\n",
    "        os.makedirs(unzip_path, exist_ok=True)\n",
    "        with zipfile.ZipFile(self.config.local_data_file, 'r') as zip_ref:\n",
    "            zip_ref.extractall(unzip_path)"
   ]
  },
  {
   "cell_type": "code",
   "execution_count": 17,
   "metadata": {},
   "outputs": [
    {
     "name": "stdout",
     "output_type": "stream",
     "text": [
      "[2023-12-18 14:57:19,973: INFO: common: yaml file: config\\config.yaml loaded successfully]\n",
      "[2023-12-18 14:57:19,977: INFO: common: yaml file: params.yaml loaded successfully]\n",
      "[2023-12-18 14:57:19,979: INFO: common: created directory at: artifacts]\n",
      "[2023-12-18 14:57:19,982: INFO: common: created directory at: artifacts/data_ingestion]\n",
      "[2023-12-18 14:57:19,986: INFO: 3953700898: downloading data from <Bucket: mlopstes> into file artifacts/data_ingestion/data.zip]\n",
      "[2023-12-18 14:57:23,820: INFO: 3953700898: downloaded data from <Bucket: mlopstes> into file artifacts/data_ingestion/data.zip]\n"
     ]
    }
   ],
   "source": [
    "try:\n",
    "    config = ConfigurationManager()\n",
    "    data_ingestion_config = config.get_data_ingestion_config()\n",
    "    data_ingestion = DataIngestion(config=data_ingestion_config)\n",
    "    data_ingestion.download_file()\n",
    "    data_ingestion.extract_zip_file()\n",
    "except Exception as e:\n",
    "    raise e"
   ]
  },
  {
   "cell_type": "code",
   "execution_count": null,
   "metadata": {},
   "outputs": [],
   "source": []
  }
 ],
 "metadata": {
  "kernelspec": {
   "display_name": "venv",
   "language": "python",
   "name": "python3"
  },
  "language_info": {
   "codemirror_mode": {
    "name": "ipython",
    "version": 3
   },
   "file_extension": ".py",
   "mimetype": "text/x-python",
   "name": "python",
   "nbconvert_exporter": "python",
   "pygments_lexer": "ipython3",
   "version": "3.11.5"
  }
 },
 "nbformat": 4,
 "nbformat_minor": 2
}
